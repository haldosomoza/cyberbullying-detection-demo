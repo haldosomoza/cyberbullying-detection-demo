{
  "cells": [
    {
      "cell_type": "markdown",
      "metadata": {
        "id": "p1D0OiE1OJzA"
      },
      "source": [
        "***CYBERBULLING SENTIMENT ANALYSIS***"
      ]
    },
    {
      "cell_type": "markdown",
      "metadata": {
        "id": "hQJGMJDDOJzC"
      },
      "source": [
        "*ABOUT THE DATASET*"
      ]
    },
    {
      "cell_type": "markdown",
      "metadata": {
        "id": "EUfDEuMBOJzD"
      },
      "source": [
        "Context.\n",
        "\n",
        "This dataset is one out of 8 collection of datasets from different sources related to the automatic detection of cyber-bullying.\n",
        "The data is from different social media platforms like Kaggle, Twitter, Wikipedia Talk pages and YouTube.\n",
        "\n",
        "\n",
        "Content.\n",
        "The data contains different types of cyber-bullying, on this case we are going to analyze toxicity.\n",
        "The data contain text and labeled as bullying or not.\n",
        "\n",
        "\n",
        "\n",
        "\n",
        "the previous information about the dataset was taken from the dataset website source: https://www.kaggle.com/datasets/saurabhshahane/cyberbullying-dataset?resource=download, and adapted to our project proposal."
      ]
    },
    {
      "cell_type": "code",
      "execution_count": 24,
      "metadata": {
        "colab": {
          "base_uri": "https://localhost:8080/"
        },
        "id": "eAAjfqvzOJzD",
        "outputId": "9e3daeba-71da-4d1b-85e4-c6361b6b2399"
      },
      "outputs": [
        {
          "output_type": "stream",
          "name": "stderr",
          "text": [
            "/usr/local/lib/python3.10/dist-packages/ipykernel/ipkernel.py:283: DeprecationWarning: `should_run_async` will not call `transform_cell` automatically in the future. Please pass the result to `transformed_cell` argument and any exception that happen during thetransform in `preprocessing_exc_tuple` in IPython 7.17 and above.\n",
            "  and should_run_async(code)\n",
            "[nltk_data] Downloading package stopwords to /root/nltk_data...\n",
            "[nltk_data]   Package stopwords is already up-to-date!\n",
            "[nltk_data] Downloading package wordnet to /root/nltk_data...\n",
            "[nltk_data]   Package wordnet is already up-to-date!\n"
          ]
        },
        {
          "output_type": "execute_result",
          "data": {
            "text/plain": [
              "True"
            ]
          },
          "metadata": {},
          "execution_count": 24
        }
      ],
      "source": [
        "#Import libraries\n",
        "\n",
        "import pandas as pd\n",
        "from sklearn.model_selection import train_test_split\n",
        "from sklearn.feature_extraction.text import TfidfVectorizer\n",
        "from sklearn.linear_model import LogisticRegression\n",
        "from sklearn.metrics import roc_auc_score\n",
        "from sklearn.pipeline import Pipeline\n",
        "from sklearn.model_selection import GridSearchCV\n",
        "import re\n",
        "import string\n",
        "from nltk.corpus import stopwords\n",
        "from nltk.stem import WordNetLemmatizer\n",
        "import nltk\n",
        "from collections import Counter\n",
        "import matplotlib.pyplot as plt\n",
        "\n",
        "\n",
        "nltk.download('stopwords')\n",
        "nltk.download('wordnet')"
      ]
    },
    {
      "cell_type": "code",
      "source": [
        "#Reading from Kaggle API and unzipping the file locally\n",
        "\n",
        "!pip install kaggle\n",
        "\n",
        "import pandas as pd\n",
        "from io import BytesIO\n",
        "from zipfile import ZipFile\n",
        "import os\n",
        "\n",
        "# Upload Kaggle API Credentials\n",
        "from google.colab import files\n",
        "files.upload()"
      ],
      "metadata": {
        "colab": {
          "base_uri": "https://localhost:8080/",
          "height": 370
        },
        "id": "-QYB33TDf2iW",
        "outputId": "341a83fe-404b-4e8c-84ea-e8697cce7f96"
      },
      "execution_count": 25,
      "outputs": [
        {
          "output_type": "stream",
          "name": "stderr",
          "text": [
            "/usr/local/lib/python3.10/dist-packages/ipykernel/ipkernel.py:283: DeprecationWarning: `should_run_async` will not call `transform_cell` automatically in the future. Please pass the result to `transformed_cell` argument and any exception that happen during thetransform in `preprocessing_exc_tuple` in IPython 7.17 and above.\n",
            "  and should_run_async(code)\n"
          ]
        },
        {
          "output_type": "stream",
          "name": "stdout",
          "text": [
            "Requirement already satisfied: kaggle in /usr/local/lib/python3.10/dist-packages (1.6.14)\n",
            "Requirement already satisfied: six>=1.10 in /usr/local/lib/python3.10/dist-packages (from kaggle) (1.16.0)\n",
            "Requirement already satisfied: certifi>=2023.7.22 in /usr/local/lib/python3.10/dist-packages (from kaggle) (2024.6.2)\n",
            "Requirement already satisfied: python-dateutil in /usr/local/lib/python3.10/dist-packages (from kaggle) (2.8.2)\n",
            "Requirement already satisfied: requests in /usr/local/lib/python3.10/dist-packages (from kaggle) (2.31.0)\n",
            "Requirement already satisfied: tqdm in /usr/local/lib/python3.10/dist-packages (from kaggle) (4.66.4)\n",
            "Requirement already satisfied: python-slugify in /usr/local/lib/python3.10/dist-packages (from kaggle) (8.0.4)\n",
            "Requirement already satisfied: urllib3 in /usr/local/lib/python3.10/dist-packages (from kaggle) (2.0.7)\n",
            "Requirement already satisfied: bleach in /usr/local/lib/python3.10/dist-packages (from kaggle) (6.1.0)\n",
            "Requirement already satisfied: webencodings in /usr/local/lib/python3.10/dist-packages (from bleach->kaggle) (0.5.1)\n",
            "Requirement already satisfied: text-unidecode>=1.3 in /usr/local/lib/python3.10/dist-packages (from python-slugify->kaggle) (1.3)\n",
            "Requirement already satisfied: charset-normalizer<4,>=2 in /usr/local/lib/python3.10/dist-packages (from requests->kaggle) (3.3.2)\n",
            "Requirement already satisfied: idna<4,>=2.5 in /usr/local/lib/python3.10/dist-packages (from requests->kaggle) (3.7)\n"
          ]
        },
        {
          "output_type": "display_data",
          "data": {
            "text/plain": [
              "<IPython.core.display.HTML object>"
            ],
            "text/html": [
              "\n",
              "     <input type=\"file\" id=\"files-28c8ff25-53f7-4dbf-8b28-566f416089eb\" name=\"files[]\" multiple disabled\n",
              "        style=\"border:none\" />\n",
              "     <output id=\"result-28c8ff25-53f7-4dbf-8b28-566f416089eb\">\n",
              "      Upload widget is only available when the cell has been executed in the\n",
              "      current browser session. Please rerun this cell to enable.\n",
              "      </output>\n",
              "      <script>// Copyright 2017 Google LLC\n",
              "//\n",
              "// Licensed under the Apache License, Version 2.0 (the \"License\");\n",
              "// you may not use this file except in compliance with the License.\n",
              "// You may obtain a copy of the License at\n",
              "//\n",
              "//      http://www.apache.org/licenses/LICENSE-2.0\n",
              "//\n",
              "// Unless required by applicable law or agreed to in writing, software\n",
              "// distributed under the License is distributed on an \"AS IS\" BASIS,\n",
              "// WITHOUT WARRANTIES OR CONDITIONS OF ANY KIND, either express or implied.\n",
              "// See the License for the specific language governing permissions and\n",
              "// limitations under the License.\n",
              "\n",
              "/**\n",
              " * @fileoverview Helpers for google.colab Python module.\n",
              " */\n",
              "(function(scope) {\n",
              "function span(text, styleAttributes = {}) {\n",
              "  const element = document.createElement('span');\n",
              "  element.textContent = text;\n",
              "  for (const key of Object.keys(styleAttributes)) {\n",
              "    element.style[key] = styleAttributes[key];\n",
              "  }\n",
              "  return element;\n",
              "}\n",
              "\n",
              "// Max number of bytes which will be uploaded at a time.\n",
              "const MAX_PAYLOAD_SIZE = 100 * 1024;\n",
              "\n",
              "function _uploadFiles(inputId, outputId) {\n",
              "  const steps = uploadFilesStep(inputId, outputId);\n",
              "  const outputElement = document.getElementById(outputId);\n",
              "  // Cache steps on the outputElement to make it available for the next call\n",
              "  // to uploadFilesContinue from Python.\n",
              "  outputElement.steps = steps;\n",
              "\n",
              "  return _uploadFilesContinue(outputId);\n",
              "}\n",
              "\n",
              "// This is roughly an async generator (not supported in the browser yet),\n",
              "// where there are multiple asynchronous steps and the Python side is going\n",
              "// to poll for completion of each step.\n",
              "// This uses a Promise to block the python side on completion of each step,\n",
              "// then passes the result of the previous step as the input to the next step.\n",
              "function _uploadFilesContinue(outputId) {\n",
              "  const outputElement = document.getElementById(outputId);\n",
              "  const steps = outputElement.steps;\n",
              "\n",
              "  const next = steps.next(outputElement.lastPromiseValue);\n",
              "  return Promise.resolve(next.value.promise).then((value) => {\n",
              "    // Cache the last promise value to make it available to the next\n",
              "    // step of the generator.\n",
              "    outputElement.lastPromiseValue = value;\n",
              "    return next.value.response;\n",
              "  });\n",
              "}\n",
              "\n",
              "/**\n",
              " * Generator function which is called between each async step of the upload\n",
              " * process.\n",
              " * @param {string} inputId Element ID of the input file picker element.\n",
              " * @param {string} outputId Element ID of the output display.\n",
              " * @return {!Iterable<!Object>} Iterable of next steps.\n",
              " */\n",
              "function* uploadFilesStep(inputId, outputId) {\n",
              "  const inputElement = document.getElementById(inputId);\n",
              "  inputElement.disabled = false;\n",
              "\n",
              "  const outputElement = document.getElementById(outputId);\n",
              "  outputElement.innerHTML = '';\n",
              "\n",
              "  const pickedPromise = new Promise((resolve) => {\n",
              "    inputElement.addEventListener('change', (e) => {\n",
              "      resolve(e.target.files);\n",
              "    });\n",
              "  });\n",
              "\n",
              "  const cancel = document.createElement('button');\n",
              "  inputElement.parentElement.appendChild(cancel);\n",
              "  cancel.textContent = 'Cancel upload';\n",
              "  const cancelPromise = new Promise((resolve) => {\n",
              "    cancel.onclick = () => {\n",
              "      resolve(null);\n",
              "    };\n",
              "  });\n",
              "\n",
              "  // Wait for the user to pick the files.\n",
              "  const files = yield {\n",
              "    promise: Promise.race([pickedPromise, cancelPromise]),\n",
              "    response: {\n",
              "      action: 'starting',\n",
              "    }\n",
              "  };\n",
              "\n",
              "  cancel.remove();\n",
              "\n",
              "  // Disable the input element since further picks are not allowed.\n",
              "  inputElement.disabled = true;\n",
              "\n",
              "  if (!files) {\n",
              "    return {\n",
              "      response: {\n",
              "        action: 'complete',\n",
              "      }\n",
              "    };\n",
              "  }\n",
              "\n",
              "  for (const file of files) {\n",
              "    const li = document.createElement('li');\n",
              "    li.append(span(file.name, {fontWeight: 'bold'}));\n",
              "    li.append(span(\n",
              "        `(${file.type || 'n/a'}) - ${file.size} bytes, ` +\n",
              "        `last modified: ${\n",
              "            file.lastModifiedDate ? file.lastModifiedDate.toLocaleDateString() :\n",
              "                                    'n/a'} - `));\n",
              "    const percent = span('0% done');\n",
              "    li.appendChild(percent);\n",
              "\n",
              "    outputElement.appendChild(li);\n",
              "\n",
              "    const fileDataPromise = new Promise((resolve) => {\n",
              "      const reader = new FileReader();\n",
              "      reader.onload = (e) => {\n",
              "        resolve(e.target.result);\n",
              "      };\n",
              "      reader.readAsArrayBuffer(file);\n",
              "    });\n",
              "    // Wait for the data to be ready.\n",
              "    let fileData = yield {\n",
              "      promise: fileDataPromise,\n",
              "      response: {\n",
              "        action: 'continue',\n",
              "      }\n",
              "    };\n",
              "\n",
              "    // Use a chunked sending to avoid message size limits. See b/62115660.\n",
              "    let position = 0;\n",
              "    do {\n",
              "      const length = Math.min(fileData.byteLength - position, MAX_PAYLOAD_SIZE);\n",
              "      const chunk = new Uint8Array(fileData, position, length);\n",
              "      position += length;\n",
              "\n",
              "      const base64 = btoa(String.fromCharCode.apply(null, chunk));\n",
              "      yield {\n",
              "        response: {\n",
              "          action: 'append',\n",
              "          file: file.name,\n",
              "          data: base64,\n",
              "        },\n",
              "      };\n",
              "\n",
              "      let percentDone = fileData.byteLength === 0 ?\n",
              "          100 :\n",
              "          Math.round((position / fileData.byteLength) * 100);\n",
              "      percent.textContent = `${percentDone}% done`;\n",
              "\n",
              "    } while (position < fileData.byteLength);\n",
              "  }\n",
              "\n",
              "  // All done.\n",
              "  yield {\n",
              "    response: {\n",
              "      action: 'complete',\n",
              "    }\n",
              "  };\n",
              "}\n",
              "\n",
              "scope.google = scope.google || {};\n",
              "scope.google.colab = scope.google.colab || {};\n",
              "scope.google.colab._files = {\n",
              "  _uploadFiles,\n",
              "  _uploadFilesContinue,\n",
              "};\n",
              "})(self);\n",
              "</script> "
            ]
          },
          "metadata": {}
        },
        {
          "output_type": "stream",
          "name": "stdout",
          "text": [
            "Saving kaggle.json to kaggle.json\n"
          ]
        },
        {
          "output_type": "execute_result",
          "data": {
            "text/plain": [
              "{'kaggle.json': b'{\"username\":\"brayanleonardogil\",\"key\":\"5ae7a5e602ef46d8c838992f78ad12da\"}'}"
            ]
          },
          "metadata": {},
          "execution_count": 25
        }
      ]
    },
    {
      "cell_type": "code",
      "source": [
        "!mkdir -p ~/.kaggle\n",
        "!mv kaggle.json ~/.kaggle/\n",
        "!chmod 600 ~/.kaggle/kaggle.json"
      ],
      "metadata": {
        "colab": {
          "base_uri": "https://localhost:8080/"
        },
        "id": "e49fNDwZgU9x",
        "outputId": "013c97f7-0eff-4f01-8dca-c3866c61a5f7"
      },
      "execution_count": 26,
      "outputs": [
        {
          "output_type": "stream",
          "name": "stderr",
          "text": [
            "/usr/local/lib/python3.10/dist-packages/ipykernel/ipkernel.py:283: DeprecationWarning: `should_run_async` will not call `transform_cell` automatically in the future. Please pass the result to `transformed_cell` argument and any exception that happen during thetransform in `preprocessing_exc_tuple` in IPython 7.17 and above.\n",
            "  and should_run_async(code)\n"
          ]
        }
      ]
    },
    {
      "cell_type": "code",
      "source": [
        "import kaggle"
      ],
      "metadata": {
        "colab": {
          "base_uri": "https://localhost:8080/"
        },
        "id": "Y7AdwbApgLKi",
        "outputId": "59d3b31a-03be-4d03-9af9-9dd7fc68c827"
      },
      "execution_count": 27,
      "outputs": [
        {
          "output_type": "stream",
          "name": "stderr",
          "text": [
            "/usr/local/lib/python3.10/dist-packages/ipykernel/ipkernel.py:283: DeprecationWarning: `should_run_async` will not call `transform_cell` automatically in the future. Please pass the result to `transformed_cell` argument and any exception that happen during thetransform in `preprocessing_exc_tuple` in IPython 7.17 and above.\n",
            "  and should_run_async(code)\n"
          ]
        }
      ]
    },
    {
      "cell_type": "code",
      "execution_count": 28,
      "metadata": {
        "colab": {
          "base_uri": "https://localhost:8080/"
        },
        "id": "-7u6ndeFOJzG",
        "outputId": "3be1cd98-01a7-4ccf-e15c-decb8d9b1a02"
      },
      "outputs": [
        {
          "output_type": "stream",
          "name": "stderr",
          "text": [
            "/usr/local/lib/python3.10/dist-packages/ipykernel/ipkernel.py:283: DeprecationWarning: `should_run_async` will not call `transform_cell` automatically in the future. Please pass the result to `transformed_cell` argument and any exception that happen during thetransform in `preprocessing_exc_tuple` in IPython 7.17 and above.\n",
            "  and should_run_async(code)\n",
            "2024-07-12 02:09:53,589 WARNING Retrying (Retry(total=2, connect=None, read=None, redirect=None, status=None)) after connection broken by 'RemoteDisconnected('Remote end closed connection without response')': /api/v1/datasets/download/saurabhshahane/cyberbullying-dataset?datasetVersionNumber=None\n",
            "WARNING:urllib3.connectionpool:Retrying (Retry(total=2, connect=None, read=None, redirect=None, status=None)) after connection broken by 'RemoteDisconnected('Remote end closed connection without response')': /api/v1/datasets/download/saurabhshahane/cyberbullying-dataset?datasetVersionNumber=None\n"
          ]
        },
        {
          "output_type": "stream",
          "name": "stdout",
          "text": [
            "Dataset URL: https://www.kaggle.com/datasets/saurabhshahane/cyberbullying-dataset\n"
          ]
        },
        {
          "output_type": "stream",
          "name": "stderr",
          "text": [
            "/usr/local/lib/python3.10/dist-packages/kaggle/api_client.py:165: DeprecationWarning: HTTPResponse.getheaders() is deprecated and will be removed in urllib3 v2.1.0. Instead access HTTPResponse.headers directly.\n",
            "  response_data.getheaders())\n"
          ]
        },
        {
          "output_type": "stream",
          "name": "stdout",
          "text": [
            "   index                                               Text  ed_label_0  \\\n",
            "0      0  This: :One can make an analogy in mathematical...         0.9   \n",
            "1      1  `  :Clarification for you  (and Zundark's righ...         1.0   \n",
            "2      2                          Elected or Electoral? JHK         1.0   \n",
            "3      3  `This is such a fun entry.   Devotchka  I once...         1.0   \n",
            "4      4  Please relate the ozone hole to increases in c...         0.8   \n",
            "\n",
            "   ed_label_1  oh_label  \n",
            "0         0.1         0  \n",
            "1         0.0         0  \n",
            "2         0.0         0  \n",
            "3         0.0         0  \n",
            "4         0.2         0  \n"
          ]
        }
      ],
      "source": [
        "#Load the dataset\n",
        "\n",
        "#df = pd.read_csv('toxicity_parsed_dataset.csv') #This is here to read the file locally\n",
        "\n",
        "dataset = 'saurabhshahane/cyberbullying-dataset'\n",
        "file_name = 'toxicity_parsed_dataset.csv'\n",
        "\n",
        "# Download the file content into memory\n",
        "download_path = 'cyberbullying-dataset'\n",
        "\n",
        "# Download the dataset files and unzip them into the specified path\n",
        "kaggle.api.dataset_download_files(dataset, path=download_path, unzip=True)\n",
        "\n",
        "\n",
        "# Construct the file path\n",
        "file_path = os.path.join(download_path, file_name)\n",
        "\n",
        "# Load the specific file into a pandas DataFrame\n",
        "df = pd.read_csv(file_path)\n",
        "\n",
        "print(df.head())\n"
      ]
    },
    {
      "cell_type": "markdown",
      "metadata": {
        "id": "eKQ0KprfOJzG"
      },
      "source": [
        "*EXPLORING THE DATASET*"
      ]
    },
    {
      "cell_type": "code",
      "execution_count": 29,
      "metadata": {
        "colab": {
          "base_uri": "https://localhost:8080/"
        },
        "id": "ZTAZXDcaOJzH",
        "outputId": "f7ba3850-ccc1-4a46-b2af-6e793b2cc099"
      },
      "outputs": [
        {
          "output_type": "stream",
          "name": "stdout",
          "text": [
            "              index     ed_label_0     ed_label_1       oh_label\n",
            "count  159686.00000  159686.000000  159686.000000  159686.000000\n",
            "mean    79842.50000       0.854951       0.145049       0.096201\n",
            "std     46097.52188       0.253866       0.253866       0.294868\n",
            "min         0.00000       0.000000       0.000000       0.000000\n",
            "25%     39921.25000       0.800000       0.000000       0.000000\n",
            "50%     79842.50000       1.000000       0.000000       0.000000\n",
            "75%    119763.75000       1.000000       0.200000       0.000000\n",
            "max    159685.00000       1.000000       1.000000       1.000000\n"
          ]
        },
        {
          "output_type": "stream",
          "name": "stderr",
          "text": [
            "/usr/local/lib/python3.10/dist-packages/ipykernel/ipkernel.py:283: DeprecationWarning: `should_run_async` will not call `transform_cell` automatically in the future. Please pass the result to `transformed_cell` argument and any exception that happen during thetransform in `preprocessing_exc_tuple` in IPython 7.17 and above.\n",
            "  and should_run_async(code)\n"
          ]
        }
      ],
      "source": [
        "#Data description\n",
        "\n",
        "print(df.describe())\n"
      ]
    },
    {
      "cell_type": "code",
      "execution_count": 30,
      "metadata": {
        "colab": {
          "base_uri": "https://localhost:8080/"
        },
        "id": "4fjOpherOJzI",
        "outputId": "7196f2f8-1e10-4ff4-98da-66c17d654b14"
      },
      "outputs": [
        {
          "output_type": "stream",
          "name": "stdout",
          "text": [
            "(159686, 5)\n"
          ]
        },
        {
          "output_type": "stream",
          "name": "stderr",
          "text": [
            "/usr/local/lib/python3.10/dist-packages/ipykernel/ipkernel.py:283: DeprecationWarning: `should_run_async` will not call `transform_cell` automatically in the future. Please pass the result to `transformed_cell` argument and any exception that happen during thetransform in `preprocessing_exc_tuple` in IPython 7.17 and above.\n",
            "  and should_run_async(code)\n"
          ]
        }
      ],
      "source": [
        "#Dataset shape\n",
        "\n",
        "print(df.shape)\n"
      ]
    },
    {
      "cell_type": "code",
      "execution_count": 31,
      "metadata": {
        "colab": {
          "base_uri": "https://localhost:8080/"
        },
        "id": "oITD5qzVOJzH",
        "outputId": "a76812fe-64d9-4447-da40-208b5dec9a7d"
      },
      "outputs": [
        {
          "output_type": "stream",
          "name": "stderr",
          "text": [
            "/usr/local/lib/python3.10/dist-packages/ipykernel/ipkernel.py:283: DeprecationWarning: `should_run_async` will not call `transform_cell` automatically in the future. Please pass the result to `transformed_cell` argument and any exception that happen during thetransform in `preprocessing_exc_tuple` in IPython 7.17 and above.\n",
            "  and should_run_async(code)\n"
          ]
        },
        {
          "output_type": "stream",
          "name": "stdout",
          "text": [
            "<class 'pandas.core.frame.DataFrame'>\n",
            "RangeIndex: 159686 entries, 0 to 159685\n",
            "Data columns (total 5 columns):\n",
            " #   Column      Non-Null Count   Dtype  \n",
            "---  ------      --------------   -----  \n",
            " 0   index       159686 non-null  int64  \n",
            " 1   Text        159686 non-null  object \n",
            " 2   ed_label_0  159686 non-null  float64\n",
            " 3   ed_label_1  159686 non-null  float64\n",
            " 4   oh_label    159686 non-null  int64  \n",
            "dtypes: float64(2), int64(2), object(1)\n",
            "memory usage: 6.1+ MB\n",
            "None\n"
          ]
        }
      ],
      "source": [
        "#Data info\n",
        "\n",
        "print(df.info())\n"
      ]
    },
    {
      "cell_type": "code",
      "execution_count": 32,
      "metadata": {
        "colab": {
          "base_uri": "https://localhost:8080/"
        },
        "id": "ubBu1rK1OJzJ",
        "outputId": "7477dfc7-8fd3-42b8-fcb5-1191a0386ebe"
      },
      "outputs": [
        {
          "output_type": "stream",
          "name": "stdout",
          "text": [
            "oh_label\n",
            "0    144324\n",
            "1     15362\n",
            "Name: count, dtype: int64\n"
          ]
        },
        {
          "output_type": "stream",
          "name": "stderr",
          "text": [
            "/usr/local/lib/python3.10/dist-packages/ipykernel/ipkernel.py:283: DeprecationWarning: `should_run_async` will not call `transform_cell` automatically in the future. Please pass the result to `transformed_cell` argument and any exception that happen during thetransform in `preprocessing_exc_tuple` in IPython 7.17 and above.\n",
            "  and should_run_async(code)\n"
          ]
        }
      ],
      "source": [
        "#Label distribution\n",
        "\n",
        "print(df['oh_label'].value_counts())\n"
      ]
    },
    {
      "cell_type": "code",
      "execution_count": 33,
      "metadata": {
        "colab": {
          "base_uri": "https://localhost:8080/"
        },
        "id": "_SkdiWZ2OJzJ",
        "outputId": "0a08382d-fd6e-4f05-f4e7-d35f6f308f49"
      },
      "outputs": [
        {
          "output_type": "stream",
          "name": "stderr",
          "text": [
            "/usr/local/lib/python3.10/dist-packages/ipykernel/ipkernel.py:283: DeprecationWarning: `should_run_async` will not call `transform_cell` automatically in the future. Please pass the result to `transformed_cell` argument and any exception that happen during thetransform in `preprocessing_exc_tuple` in IPython 7.17 and above.\n",
            "  and should_run_async(code)\n"
          ]
        },
        {
          "output_type": "execute_result",
          "data": {
            "text/plain": [
              "index         159686\n",
              "Text          159388\n",
              "ed_label_0        66\n",
              "ed_label_1        66\n",
              "oh_label           2\n",
              "dtype: int64"
            ]
          },
          "metadata": {},
          "execution_count": 33
        }
      ],
      "source": [
        "#Unique values\n",
        "\n",
        "df.nunique()"
      ]
    },
    {
      "cell_type": "code",
      "execution_count": 34,
      "metadata": {
        "colab": {
          "base_uri": "https://localhost:8080/"
        },
        "id": "GToCNL7ROJzK",
        "outputId": "35391bca-d127-4983-8ee6-0fdc9e4fc830"
      },
      "outputs": [
        {
          "output_type": "stream",
          "name": "stdout",
          "text": [
            "_________Text Samples_________\n",
            "\n",
            "Sample No Toxic Tweet:  `  :Clarification for you  (and Zundark's right, i should have checked the Wikipedia bugs page first).   This is a ``bug`` in the code that makes wikipedia work  it just means that there is a line of code that may have an error as small as an extra space. It's analogous (in a VERY simplified way) to trying to make something bold in HTML and forgetting to put the  at the end, so you'd see something like this:  words in bold  Instead of this:  words in bold   It's not like a virus, that is code somebody deliberately wrote in order to infect your computer and damage files, so it won't ``go around.`` JHK   `\n",
            "\n",
            "\n",
            "Sample Toxic Tweet:  i have a dick, its bigger than yours! hahaha\n",
            "\n",
            "_______________________________\n"
          ]
        },
        {
          "output_type": "stream",
          "name": "stderr",
          "text": [
            "/usr/local/lib/python3.10/dist-packages/ipykernel/ipkernel.py:283: DeprecationWarning: `should_run_async` will not call `transform_cell` automatically in the future. Please pass the result to `transformed_cell` argument and any exception that happen during thetransform in `preprocessing_exc_tuple` in IPython 7.17 and above.\n",
            "  and should_run_async(code)\n"
          ]
        }
      ],
      "source": [
        "#Print text samples of each label\n",
        "\n",
        "print('_________Text Samples_________')\n",
        "sample_tweet_0 = df[df['ed_label_0'] == 1]['Text'].iloc[0]\n",
        "print('\\nSample No Toxic Tweet: ', sample_tweet_0)\n",
        "sexist_tweet = df[df['ed_label_1'] == 1]['Text'].iloc[0]\n",
        "print('\\n\\nSample Toxic Tweet: ', sexist_tweet)\n",
        "print('\\n_______________________________')"
      ]
    },
    {
      "cell_type": "markdown",
      "metadata": {
        "id": "byc3_YmzOJzL"
      },
      "source": [
        "**DATA PREPROCESSING**"
      ]
    },
    {
      "cell_type": "code",
      "execution_count": 35,
      "metadata": {
        "colab": {
          "base_uri": "https://localhost:8080/"
        },
        "id": "4ojeQ9kkOJzL",
        "outputId": "3ba8c68d-1672-4f72-8ea3-04294d1d47fa"
      },
      "outputs": [
        {
          "output_type": "stream",
          "name": "stderr",
          "text": [
            "/usr/local/lib/python3.10/dist-packages/ipykernel/ipkernel.py:283: DeprecationWarning: `should_run_async` will not call `transform_cell` automatically in the future. Please pass the result to `transformed_cell` argument and any exception that happen during thetransform in `preprocessing_exc_tuple` in IPython 7.17 and above.\n",
            "  and should_run_async(code)\n"
          ]
        }
      ],
      "source": [
        "#Drop index column\n",
        "\n",
        "df = df.drop(['index'], axis=1)"
      ]
    },
    {
      "cell_type": "code",
      "execution_count": 36,
      "metadata": {
        "colab": {
          "base_uri": "https://localhost:8080/"
        },
        "id": "UUiNbLBLOJzL",
        "outputId": "d8b7b58c-d7a8-4980-9764-42511e15152f"
      },
      "outputs": [
        {
          "output_type": "stream",
          "name": "stderr",
          "text": [
            "/usr/local/lib/python3.10/dist-packages/ipykernel/ipkernel.py:283: DeprecationWarning: `should_run_async` will not call `transform_cell` automatically in the future. Please pass the result to `transformed_cell` argument and any exception that happen during thetransform in `preprocessing_exc_tuple` in IPython 7.17 and above.\n",
            "  and should_run_async(code)\n"
          ]
        }
      ],
      "source": [
        "#Features and target\n",
        "\n",
        "X = df['Text']\n",
        "y = df['oh_label']"
      ]
    },
    {
      "cell_type": "code",
      "execution_count": 37,
      "metadata": {
        "colab": {
          "base_uri": "https://localhost:8080/"
        },
        "id": "0mBal0l4OJzL",
        "outputId": "0e8e59b0-e788-41eb-ac02-3abd18f468c5"
      },
      "outputs": [
        {
          "output_type": "stream",
          "name": "stderr",
          "text": [
            "/usr/local/lib/python3.10/dist-packages/ipykernel/ipkernel.py:283: DeprecationWarning: `should_run_async` will not call `transform_cell` automatically in the future. Please pass the result to `transformed_cell` argument and any exception that happen during thetransform in `preprocessing_exc_tuple` in IPython 7.17 and above.\n",
            "  and should_run_async(code)\n"
          ]
        }
      ],
      "source": [
        "#Split dataset into training and test sets\n",
        "\n",
        "X_train, X_test, y_train, y_test = train_test_split(X, y, test_size=0.2, random_state=42)"
      ]
    },
    {
      "cell_type": "markdown",
      "metadata": {
        "id": "F0T9jKCNOJzM"
      },
      "source": [
        "*Data Cleaning*"
      ]
    },
    {
      "cell_type": "code",
      "execution_count": 38,
      "metadata": {
        "colab": {
          "base_uri": "https://localhost:8080/"
        },
        "id": "CRPLlKJ9OJzM",
        "outputId": "ccd58402-28a3-4545-cb69-3c2a9221825e"
      },
      "outputs": [
        {
          "output_type": "stream",
          "name": "stderr",
          "text": [
            "/usr/local/lib/python3.10/dist-packages/ipykernel/ipkernel.py:283: DeprecationWarning: `should_run_async` will not call `transform_cell` automatically in the future. Please pass the result to `transformed_cell` argument and any exception that happen during thetransform in `preprocessing_exc_tuple` in IPython 7.17 and above.\n",
            "  and should_run_async(code)\n"
          ]
        },
        {
          "output_type": "stream",
          "name": "stdout",
          "text": [
            "Text          False\n",
            "ed_label_0    False\n",
            "ed_label_1    False\n",
            "oh_label      False\n",
            "dtype: bool\n",
            "Text          0\n",
            "ed_label_0    0\n",
            "ed_label_1    0\n",
            "oh_label      0\n",
            "dtype: int64\n"
          ]
        }
      ],
      "source": [
        "#Look for missing values\n",
        "\n",
        "print(df.isnull().any())\n",
        "print(df.isnull().sum())"
      ]
    },
    {
      "cell_type": "code",
      "execution_count": 39,
      "metadata": {
        "colab": {
          "base_uri": "https://localhost:8080/"
        },
        "id": "jf-JyMqmOJzN",
        "outputId": "847fc05a-f918-4598-c20b-4c92357f824f"
      },
      "outputs": [
        {
          "output_type": "stream",
          "name": "stderr",
          "text": [
            "/usr/local/lib/python3.10/dist-packages/ipykernel/ipkernel.py:283: DeprecationWarning: `should_run_async` will not call `transform_cell` automatically in the future. Please pass the result to `transformed_cell` argument and any exception that happen during thetransform in `preprocessing_exc_tuple` in IPython 7.17 and above.\n",
            "  and should_run_async(code)\n"
          ]
        }
      ],
      "source": [
        "# Define function to clean text\n",
        "def text_cleaning(text):\n",
        "\n",
        "     # Remove URLs\n",
        "    text = re.sub(r'http\\S+|www\\S+|https\\S+', '', text, flags=re.MULTILINE)\n",
        "    # Remove mentions (@user) and hashtags (#hashtag)\n",
        "    text = re.sub(r'@\\w+|#\\w+', '', text)\n",
        "    # Remove special characters and digits\n",
        "    text = re.sub(r'[^a-zA-Z\\s]', '', text)\n",
        "    # Convert to lowercase\n",
        "    text = text.lower()\n",
        "    # Remove extra spaces\n",
        "    text = text.strip()\n",
        "    # Remove stop words\n",
        "    stop_words = set(stopwords.words('english'))\n",
        "    text = ' '.join(word for word in text.split() if word not in stop_words)\n",
        "    # Use Lemmatization\n",
        "    lemmatizer = WordNetLemmatizer()\n",
        "    text = ' '.join(lemmatizer.lemmatize(word) for word in text.split())\n",
        "    return text"
      ]
    },
    {
      "cell_type": "code",
      "source": [
        "#Adding sentiment features\n",
        "from textblob import TextBlob\n",
        "\n",
        "def add_sentiment_features(df):\n",
        "    df['sentiment_polarity'] = df['Text'].apply(lambda x: TextBlob(x).sentiment.polarity)\n",
        "    df['sentiment_subjectivity'] = df['Text'].apply(lambda x: TextBlob(x).sentiment.subjectivity)\n",
        "    return df\n",
        "\n",
        "df = add_sentiment_features(df)\n",
        "\n"
      ],
      "metadata": {
        "colab": {
          "base_uri": "https://localhost:8080/"
        },
        "id": "0r880pDFre00",
        "outputId": "06ad7528-beed-491b-bebf-c63c4dcbdd16"
      },
      "execution_count": 40,
      "outputs": [
        {
          "output_type": "stream",
          "name": "stderr",
          "text": [
            "/usr/local/lib/python3.10/dist-packages/ipykernel/ipkernel.py:283: DeprecationWarning: `should_run_async` will not call `transform_cell` automatically in the future. Please pass the result to `transformed_cell` argument and any exception that happen during thetransform in `preprocessing_exc_tuple` in IPython 7.17 and above.\n",
            "  and should_run_async(code)\n"
          ]
        }
      ]
    },
    {
      "cell_type": "code",
      "source": [
        "#Topic Modeling #30 min\n",
        "!pip install pyLDAvis\n",
        "\n",
        "import gensim\n",
        "from gensim import corpora\n",
        "from gensim.models import LdaMulticore\n",
        "from gensim.parsing.preprocessing import STOPWORDS\n",
        "import pyLDAvis.gensim_models\n",
        "\n",
        "# Function to preprocess text for LDA\n",
        "def preprocess_text(text):\n",
        "    # Tokenize the text\n",
        "    tokens = gensim.utils.simple_preprocess(text)\n",
        "    # Remove stopwords\n",
        "    return [token for token in tokens if token not in STOPWORDS]\n",
        "\n",
        "# Preprocess the texts\n",
        "processed_texts = df['Text'].apply(preprocess_text)\n",
        "\n",
        "# Create a dictionary from the texts\n",
        "dictionary = corpora.Dictionary(processed_texts)\n",
        "\n",
        "# Create a corpus\n",
        "corpus = [dictionary.doc2bow(text) for text in processed_texts]\n",
        "\n",
        "# Set training parameters\n",
        "num_topics = 10\n",
        "chunksize = 2000\n",
        "passes = 20\n",
        "iterations = 400\n",
        "eval_every = None  # Don't evaluate model perplexity, takes too much time.\n",
        "\n",
        "# Make a index to word dictionary\n",
        "temp = dictionary[0]  # This is only to \"load\" the dictionary.\n",
        "id2word = dictionary.id2token\n",
        "\n",
        "# Train LDA model\n",
        "model = LdaMulticore(\n",
        "    corpus=corpus,\n",
        "    id2word=id2word,\n",
        "    num_topics=num_topics,\n",
        "    random_state=100,\n",
        "    chunksize=chunksize,\n",
        "    passes=passes,\n",
        "    iterations=iterations,\n",
        "    eval_every=eval_every\n",
        ")\n",
        "\n",
        "# Print the topics\n",
        "print(model.print_topics())\n",
        "\n",
        "# Visualize the topics\n",
        "vis = pyLDAvis.gensim_models.prepare(model, corpus, dictionary)\n",
        "pyLDAvis.save_html(vis, 'lda_visualization.html')\n",
        "\n",
        "# Function to get the dominant topic for each document\n",
        "def get_dominant_topic(ldamodel, corpus, texts):\n",
        "    dominant_topics = []\n",
        "    topic_percentages = []\n",
        "    for i, corp in enumerate(corpus):\n",
        "        topic_percs = ldamodel.get_document_topics(corp, minimum_probability=0)\n",
        "        dominant_topic = sorted(topic_percs, key=lambda x: x[1], reverse=True)[0][0]\n",
        "        dominant_topics.append(dominant_topic)\n",
        "        topic_percentages.append(topic_percs)\n",
        "    return dominant_topics, topic_percentages\n",
        "# Get dominant topic for each document\n",
        "dominant_topics, topic_percentages = get_dominant_topic(model, corpus, processed_texts)\n",
        "\n",
        "# Add dominant topic to the dataframe\n",
        "df['dominant_topic'] = dominant_topics\n",
        "\n",
        "# View results\n",
        "print(df[['Text', 'dominant_topic', 'oh_label']].head(10))\n",
        "\n",
        "# Analyze topic distribution\n",
        "topic_counts = df['dominant_topic'].value_counts().sort_index()\n",
        "print(\"\\nTopic Distribution:\")\n",
        "print(topic_counts)\n",
        "\n",
        "# Visualize topic distribution\n",
        "plt.figure(figsize=(12, 6))\n",
        "topic_counts.plot(kind='bar')\n",
        "plt.title('Distribution of Dominant Topics')\n",
        "plt.xlabel('Topic')\n",
        "plt.ylabel('Number of Documents')\n",
        "plt.show()"
      ],
      "metadata": {
        "colab": {
          "base_uri": "https://localhost:8080/",
          "height": 1000
        },
        "id": "KjaYN_EXsmFt",
        "outputId": "1288e4b0-dd42-4130-b4ae-4d5f08309b33"
      },
      "execution_count": 41,
      "outputs": [
        {
          "output_type": "stream",
          "name": "stderr",
          "text": [
            "/usr/local/lib/python3.10/dist-packages/ipykernel/ipkernel.py:283: DeprecationWarning: `should_run_async` will not call `transform_cell` automatically in the future. Please pass the result to `transformed_cell` argument and any exception that happen during thetransform in `preprocessing_exc_tuple` in IPython 7.17 and above.\n",
            "  and should_run_async(code)\n"
          ]
        },
        {
          "output_type": "stream",
          "name": "stdout",
          "text": [
            "Requirement already satisfied: pyLDAvis in /usr/local/lib/python3.10/dist-packages (3.4.1)\n",
            "Requirement already satisfied: numpy>=1.24.2 in /usr/local/lib/python3.10/dist-packages (from pyLDAvis) (1.25.2)\n",
            "Requirement already satisfied: scipy in /usr/local/lib/python3.10/dist-packages (from pyLDAvis) (1.11.4)\n",
            "Requirement already satisfied: pandas>=2.0.0 in /usr/local/lib/python3.10/dist-packages (from pyLDAvis) (2.0.3)\n",
            "Requirement already satisfied: joblib>=1.2.0 in /usr/local/lib/python3.10/dist-packages (from pyLDAvis) (1.4.2)\n",
            "Requirement already satisfied: jinja2 in /usr/local/lib/python3.10/dist-packages (from pyLDAvis) (3.1.4)\n",
            "Requirement already satisfied: numexpr in /usr/local/lib/python3.10/dist-packages (from pyLDAvis) (2.10.1)\n",
            "Requirement already satisfied: funcy in /usr/local/lib/python3.10/dist-packages (from pyLDAvis) (2.0)\n",
            "Requirement already satisfied: scikit-learn>=1.0.0 in /usr/local/lib/python3.10/dist-packages (from pyLDAvis) (1.2.2)\n",
            "Requirement already satisfied: gensim in /usr/local/lib/python3.10/dist-packages (from pyLDAvis) (4.3.2)\n",
            "Requirement already satisfied: setuptools in /usr/local/lib/python3.10/dist-packages (from pyLDAvis) (67.7.2)\n",
            "Requirement already satisfied: python-dateutil>=2.8.2 in /usr/local/lib/python3.10/dist-packages (from pandas>=2.0.0->pyLDAvis) (2.8.2)\n",
            "Requirement already satisfied: pytz>=2020.1 in /usr/local/lib/python3.10/dist-packages (from pandas>=2.0.0->pyLDAvis) (2023.4)\n",
            "Requirement already satisfied: tzdata>=2022.1 in /usr/local/lib/python3.10/dist-packages (from pandas>=2.0.0->pyLDAvis) (2024.1)\n",
            "Requirement already satisfied: threadpoolctl>=2.0.0 in /usr/local/lib/python3.10/dist-packages (from scikit-learn>=1.0.0->pyLDAvis) (3.5.0)\n",
            "Requirement already satisfied: smart-open>=1.8.1 in /usr/local/lib/python3.10/dist-packages (from gensim->pyLDAvis) (7.0.4)\n",
            "Requirement already satisfied: MarkupSafe>=2.0 in /usr/local/lib/python3.10/dist-packages (from jinja2->pyLDAvis) (2.1.5)\n",
            "Requirement already satisfied: six>=1.5 in /usr/local/lib/python3.10/dist-packages (from python-dateutil>=2.8.2->pandas>=2.0.0->pyLDAvis) (1.16.0)\n",
            "Requirement already satisfied: wrapt in /usr/local/lib/python3.10/dist-packages (from smart-open>=1.8.1->gensim->pyLDAvis) (1.14.1)\n",
            "[(0, '0.008*\"english\" + 0.007*\"people\" + 0.007*\"country\" + 0.007*\"american\" + 0.006*\"state\" + 0.006*\"war\" + 0.006*\"states\" + 0.006*\"world\" + 0.006*\"united\" + 0.006*\"penis\"'), (1, '0.032*\"edit\" + 0.028*\"wikipedia\" + 0.026*\"page\" + 0.022*\"edits\" + 0.019*\"user\" + 0.018*\"talk\" + 0.014*\"editing\" + 0.013*\"block\" + 0.013*\"blocked\" + 0.012*\"editors\"'), (2, '0.069*\"style\" + 0.053*\"px\" + 0.037*\"align\" + 0.031*\"color\" + 0.029*\"background\" + 0.027*\"vertical\" + 0.027*\"padding\" + 0.025*\"middle\" + 0.022*\"shit\" + 0.020*\"border\"'), (3, '0.064*\"article\" + 0.033*\"page\" + 0.025*\"wikipedia\" + 0.022*\"articles\" + 0.016*\"wp\" + 0.012*\"added\" + 0.011*\"content\" + 0.011*\"add\" + 0.011*\"deleted\" + 0.011*\"talk\"'), (4, '0.066*\"http\" + 0.055*\"com\" + 0.040*\"www\" + 0.040*\"org\" + 0.038*\"wiki\" + 0.032*\"en\" + 0.024*\"fucking\" + 0.022*\"https\" + 0.019*\"asshole\" + 0.014*\"music\"'), (5, '0.047*\"fuck\" + 0.044*\"image\" + 0.029*\"copyright\" + 0.027*\"file\" + 0.025*\"use\" + 0.023*\"images\" + 0.023*\"ass\" + 0.016*\"wikipedia\" + 0.015*\"jpg\" + 0.015*\"picture\"'), (6, '0.065*\"wikipedia\" + 0.045*\"page\" + 0.039*\"talk\" + 0.036*\"thank\" + 0.035*\"help\" + 0.026*\"hi\" + 0.020*\"pages\" + 0.019*\"thanks\" + 0.018*\"hello\" + 0.017*\"welcome\"'), (7, '0.017*\"like\" + 0.015*\"know\" + 0.011*\"time\" + 0.010*\"think\" + 0.010*\"people\" + 0.008*\"ve\" + 0.008*\"good\" + 0.007*\"want\" + 0.006*\"ll\" + 0.006*\"way\"'), (8, '0.022*\"utc\" + 0.013*\"school\" + 0.011*\"university\" + 0.010*\"year\" + 0.010*\"team\" + 0.009*\"news\" + 0.009*\"video\" + 0.009*\"th\" + 0.009*\"john\" + 0.008*\"game\"'), (9, '0.020*\"article\" + 0.013*\"sources\" + 0.012*\"source\" + 0.007*\"section\" + 0.006*\"use\" + 0.005*\"reliable\" + 0.005*\"fact\" + 0.005*\"point\" + 0.005*\"information\" + 0.005*\"think\"')]\n",
            "                                                Text  dominant_topic  oh_label\n",
            "0  This: :One can make an analogy in mathematical...               9         0\n",
            "1  `  :Clarification for you  (and Zundark's righ...               7         0\n",
            "2                          Elected or Electoral? JHK               0         0\n",
            "3  `This is such a fun entry.   Devotchka  I once...               9         0\n",
            "4  Please relate the ozone hole to increases in c...               9         0\n",
            "5  `:In an interpreted language your source code ...               9         0\n",
            "6  `   I fixed the link; I also removed ``homeopa...               7         0\n",
            "7  `If they are ``indisputable`` then why does th...               9         0\n",
            "8  `- This is not ``creative``.  Those are the di...               9         0\n",
            "9  `   The concept of ``viral meme`` is not a mai...               9         0\n",
            "\n",
            "Topic Distribution:\n",
            "dominant_topic\n",
            "0     8881\n",
            "1    18642\n",
            "2     1752\n",
            "3    16125\n",
            "4     2254\n",
            "5     3680\n",
            "6     9309\n",
            "7    58537\n",
            "8     2576\n",
            "9    37930\n",
            "Name: count, dtype: int64\n"
          ]
        },
        {
          "output_type": "display_data",
          "data": {
            "text/plain": [
              "<Figure size 1200x600 with 1 Axes>"
            ],
            "image/png": "[encoded data removed]"
          },
          "metadata": {}
        }
      ]
    },
    {
      "cell_type": "code",
      "source": [
        "df.to_csv('sentiment_and_topics.csv', index=False)"
      ],
      "metadata": {
        "colab": {
          "base_uri": "https://localhost:8080/"
        },
        "id": "Qv9aKS01srbf",
        "outputId": "52cb6e75-cc65-41b6-988a-b5d0d107d951"
      },
      "execution_count": 42,
      "outputs": [
        {
          "output_type": "stream",
          "name": "stderr",
          "text": [
            "/usr/local/lib/python3.10/dist-packages/ipykernel/ipkernel.py:283: DeprecationWarning: `should_run_async` will not call `transform_cell` automatically in the future. Please pass the result to `transformed_cell` argument and any exception that happen during thetransform in `preprocessing_exc_tuple` in IPython 7.17 and above.\n",
            "  and should_run_async(code)\n"
          ]
        }
      ]
    },
    {
      "cell_type": "code",
      "execution_count": 43,
      "metadata": {
        "colab": {
          "base_uri": "https://localhost:8080/"
        },
        "id": "kBZexj5JOJzN",
        "outputId": "98568cd8-fe77-4616-d438-aa705af34333"
      },
      "outputs": [
        {
          "output_type": "stream",
          "name": "stderr",
          "text": [
            "/usr/local/lib/python3.10/dist-packages/ipykernel/ipkernel.py:283: DeprecationWarning: `should_run_async` will not call `transform_cell` automatically in the future. Please pass the result to `transformed_cell` argument and any exception that happen during thetransform in `preprocessing_exc_tuple` in IPython 7.17 and above.\n",
            "  and should_run_async(code)\n"
          ]
        }
      ],
      "source": [
        "# Apply text cleaning to the training and testing sets\n",
        "X_train = X_train.apply(text_cleaning)\n",
        "X_test = X_test.apply(text_cleaning)"
      ]
    },
    {
      "cell_type": "code",
      "execution_count": 44,
      "metadata": {
        "colab": {
          "base_uri": "https://localhost:8080/"
        },
        "id": "Xrac2VATOJzN",
        "outputId": "8b399b30-89e2-4bb9-b28b-4be988437fd6"
      },
      "outputs": [
        {
          "output_type": "stream",
          "name": "stderr",
          "text": [
            "/usr/local/lib/python3.10/dist-packages/ipykernel/ipkernel.py:283: DeprecationWarning: `should_run_async` will not call `transform_cell` automatically in the future. Please pass the result to `transformed_cell` argument and any exception that happen during thetransform in `preprocessing_exc_tuple` in IPython 7.17 and above.\n",
            "  and should_run_async(code)\n"
          ]
        },
        {
          "output_type": "stream",
          "name": "stdout",
          "text": [
            "Top 40 most common words:\n",
            "article, 58509\n",
            "page, 45334\n",
            "wikipedia, 29004\n",
            "please, 24116\n",
            "one, 24061\n",
            "would, 23571\n",
            "like, 22795\n",
            "dont, 21008\n",
            "see, 17574\n",
            "source, 17173\n",
            "think, 16660\n",
            "also, 16622\n",
            "know, 16099\n",
            "im, 15675\n",
            "talk, 15485\n",
            "time, 15226\n",
            "people, 15034\n",
            "edit, 14139\n",
            "use, 13197\n",
            "make, 13051\n",
            "may, 12464\n",
            "get, 11735\n",
            "say, 11471\n",
            "need, 11237\n",
            "thanks, 11188\n",
            "even, 10861\n",
            "link, 10835\n",
            "user, 10512\n",
            "name, 10439\n",
            "want, 10289\n",
            "good, 10098\n",
            "information, 9710\n",
            "could, 9676\n",
            "well, 9617\n",
            "way, 9586\n",
            "go, 9584\n",
            "comment, 9473\n",
            "editor, 9401\n",
            "image, 9333\n",
            "section, 9115\n"
          ]
        }
      ],
      "source": [
        "# Word frequency analysis\n",
        "all_words = ' '.join(X_train).split()\n",
        "word_freq = Counter(all_words)\n",
        "common_words = word_freq.most_common(40)\n",
        "\n",
        "# Display the top 40 words\n",
        "print(\"Top 40 most common words:\")\n",
        "for word, freq in common_words:\n",
        "    print(f\"{word}, {freq}\")"
      ]
    },
    {
      "cell_type": "code",
      "execution_count": 45,
      "metadata": {
        "colab": {
          "base_uri": "https://localhost:8080/",
          "height": 773
        },
        "id": "Ea_3WanAOJzO",
        "outputId": "271708be-166c-457a-dcb6-efabff9c634e"
      },
      "outputs": [
        {
          "output_type": "stream",
          "name": "stderr",
          "text": [
            "/usr/local/lib/python3.10/dist-packages/ipykernel/ipkernel.py:283: DeprecationWarning: `should_run_async` will not call `transform_cell` automatically in the future. Please pass the result to `transformed_cell` argument and any exception that happen during thetransform in `preprocessing_exc_tuple` in IPython 7.17 and above.\n",
            "  and should_run_async(code)\n"
          ]
        },
        {
          "output_type": "display_data",
          "data": {
            "text/plain": [
              "<Figure size 1200x800 with 1 Axes>"
            ],
            "image/png": "[encoded data removed]"
          },
          "metadata": {}
        }
      ],
      "source": [
        "import matplotlib.pyplot as plt\n",
        "# Plot the top 40 words\n",
        "\n",
        "words, frequencies = zip(*common_words)\n",
        "plt.figure(figsize=(12, 8))\n",
        "plt.barh(words, frequencies)\n",
        "plt.xlabel('Frequency')\n",
        "plt.ylabel('Words')\n",
        "plt.title('Top 40 Most Common Words')\n",
        "plt.gca().invert_yaxis()\n",
        "plt.show()"
      ]
    },
    {
      "cell_type": "markdown",
      "metadata": {
        "id": "vvXwtkhBOJzO"
      },
      "source": [
        "**FEATURE ENGINEERING**"
      ]
    },
    {
      "cell_type": "code",
      "execution_count": 46,
      "metadata": {
        "colab": {
          "base_uri": "https://localhost:8080/"
        },
        "id": "DJSVULiQOJzO",
        "outputId": "452fc183-8871-427f-8973-6f0d06992bda"
      },
      "outputs": [
        {
          "output_type": "stream",
          "name": "stderr",
          "text": [
            "/usr/local/lib/python3.10/dist-packages/ipykernel/ipkernel.py:283: DeprecationWarning: `should_run_async` will not call `transform_cell` automatically in the future. Please pass the result to `transformed_cell` argument and any exception that happen during thetransform in `preprocessing_exc_tuple` in IPython 7.17 and above.\n",
            "  and should_run_async(code)\n"
          ]
        }
      ],
      "source": [
        "# Define a pipeline with TF-IDF vectorizer and Logistic Regression model\n",
        "from sklearn.feature_selection import SelectKBest, chi2\n",
        "\n",
        "pipeline = Pipeline([\n",
        "    ('tfidf', TfidfVectorizer(stop_words='english')),\n",
        "    ('select', SelectKBest(chi2, k='all')),\n",
        "    ('clf', LogisticRegression(solver='liblinear'))\n",
        "])"
      ]
    },
    {
      "cell_type": "code",
      "execution_count": 47,
      "metadata": {
        "colab": {
          "base_uri": "https://localhost:8080/"
        },
        "id": "R_O34g_3OJzO",
        "outputId": "1f1d1674-dd89-4868-babe-037b90feebad"
      },
      "outputs": [
        {
          "output_type": "stream",
          "name": "stderr",
          "text": [
            "/usr/local/lib/python3.10/dist-packages/ipykernel/ipkernel.py:283: DeprecationWarning: `should_run_async` will not call `transform_cell` automatically in the future. Please pass the result to `transformed_cell` argument and any exception that happen during thetransform in `preprocessing_exc_tuple` in IPython 7.17 and above.\n",
            "  and should_run_async(code)\n"
          ]
        }
      ],
      "source": [
        "# Define the parameter grid for hyperparameter tuning\n",
        "param_grid = {\n",
        "    'tfidf__max_df': [0.7, 0.8, 0.9, 1.0],\n",
        "    'tfidf__min_df': [1, 2, 3],\n",
        "    'tfidf__ngram_range': [(1, 1), (1, 2), (1, 3)],\n",
        "    'tfidf__max_features': [None, 5000, 10000],\n",
        "    'clf__C': [0.1, 1, 10, 100]\n",
        "}"
      ]
    },
    {
      "cell_type": "code",
      "execution_count": null,
      "metadata": {
        "colab": {
          "base_uri": "https://localhost:8080/"
        },
        "id": "HUMWto11OJzP",
        "outputId": "7820e192-1b00-4b78-cd6d-48b5be0e8976"
      },
      "outputs": [
        {
          "output_type": "stream",
          "name": "stderr",
          "text": [
            "/usr/local/lib/python3.10/dist-packages/ipykernel/ipkernel.py:283: DeprecationWarning: `should_run_async` will not call `transform_cell` automatically in the future. Please pass the result to `transformed_cell` argument and any exception that happen during thetransform in `preprocessing_exc_tuple` in IPython 7.17 and above.\n",
            "  and should_run_async(code)\n"
          ]
        },
        {
          "output_type": "stream",
          "name": "stdout",
          "text": [
            "Fitting 5 folds for each of 432 candidates, totalling 2160 fits\n"
          ]
        },
        {
          "output_type": "stream",
          "name": "stderr",
          "text": [
            "/usr/local/lib/python3.10/dist-packages/joblib/externals/loky/process_executor.py:752: UserWarning: A worker stopped while some jobs were given to the executor. This can be caused by a too short worker timeout or by a memory leak.\n",
            "  warnings.warn(\n"
          ]
        }
      ],
      "source": [
        "# Perform grid search with cross-validation\n",
        "grid_search = GridSearchCV(pipeline, param_grid, scoring='roc_auc', cv=5, n_jobs=-1, verbose=1)\n",
        "grid_search.fit(X_train, y_train)"
      ]
    },
    {
      "cell_type": "code",
      "execution_count": null,
      "metadata": {
        "id": "XdRpxEZ6OJzP"
      },
      "outputs": [],
      "source": [
        "# Get the best model from grid search\n",
        "best_model = grid_search.best_estimator_"
      ]
    },
    {
      "cell_type": "code",
      "execution_count": null,
      "metadata": {
        "id": "9Q3riuSQOJzP"
      },
      "outputs": [],
      "source": [
        "# Make predictions on the test set\n",
        "y_pred = best_model.predict(X_test)\n",
        "y_pred_proba = best_model.predict_proba(X_test)[:, 1]"
      ]
    },
    {
      "cell_type": "code",
      "execution_count": null,
      "metadata": {
        "id": "mR8pQNG7OJzP"
      },
      "outputs": [],
      "source": [
        "# Calculate the AUC score\n",
        "auc_score = roc_auc_score(y_test, y_pred_proba)\n",
        "print(f'AUC Score: {auc_score}')\n"
      ]
    },
    {
      "cell_type": "code",
      "execution_count": null,
      "metadata": {
        "id": "0COEWk76OJzP"
      },
      "outputs": [],
      "source": [
        "\n",
        "# Display the best parameters\n",
        "print(f'Best Parameters: {grid_search.best_params_}')"
      ]
    }
  ],
  "metadata": {
    "kernelspec": {
      "display_name": "Python 3",
      "name": "python3"
    },
    "language_info": {
      "codemirror_mode": {
        "name": "ipython",
        "version": 3
      },
      "file_extension": ".py",
      "mimetype": "text/x-python",
      "name": "python",
      "nbconvert_exporter": "python",
      "pygments_lexer": "ipython3",
      "version": "3.12.0"
    },
    "colab": {
      "provenance": []
    }
  },
  "nbformat": 4,
  "nbformat_minor": 0
}